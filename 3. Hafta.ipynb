{
 "cells": [
  {
   "cell_type": "markdown",
   "id": "c4d4ea80",
   "metadata": {},
   "source": [
    "### Liste Tipindeki Değişkenler\n",
    "\n",
    "* <b> Ayrıntılı bilgi için <a href=\"https://www.programiz.com/python-programming/list\">buradan</a> da çalışınız</b>"
   ]
  },
  {
   "cell_type": "code",
   "execution_count": null,
   "id": "6d577d73",
   "metadata": {},
   "outputs": [],
   "source": [
    "### Boş liste tanımlama\n",
    "gunler = [] # List()\n",
    "\n",
    "\"\"\"\n",
    "Iterable Veri Tipleri\n",
    "\n",
    "list: liste -> gunler = []\n",
    "dict: dictionary -> sözlük = {}\n",
    "set: set(liste)\n",
    "tuple: (1,2,3)\n",
    "range\n",
    "\"\"\""
   ]
  },
  {
   "cell_type": "code",
   "execution_count": null,
   "id": "188bd5ff",
   "metadata": {},
   "outputs": [],
   "source": [
    "# Tipini yazdırdığımızda \"<class 'list'>\" görürüz.\n",
    "print(type(gunler))"
   ]
  },
  {
   "cell_type": "markdown",
   "id": "5f4ecde7",
   "metadata": {},
   "source": [
    "---"
   ]
  },
  {
   "cell_type": "markdown",
   "id": "2a25c08b",
   "metadata": {},
   "source": [
    "&rarr; Listeler içerisinde tek bir veri tipinden objeler de tutabilir, aynı anda farklı tipteki verileri de saklayabilir."
   ]
  },
  {
   "cell_type": "code",
   "execution_count": null,
   "id": "2514c6ee",
   "metadata": {},
   "outputs": [],
   "source": [
    "gunler = [\"Pazartesi\", \"Salı\", \"Çarşamba\", \"Perşembe\", \n",
    "          \"Cuma\", \"Cumartesi\", \"Pazar\"]\n",
    "\n",
    "# string list"
   ]
  },
  {
   "cell_type": "code",
   "execution_count": null,
   "id": "cd4146a9",
   "metadata": {},
   "outputs": [],
   "source": [
    "print((type(gunler)))"
   ]
  },
  {
   "cell_type": "code",
   "execution_count": null,
   "id": "3310707d",
   "metadata": {},
   "outputs": [],
   "source": [
    "sayma_sayilari = [0,1,2,3,4,5,6,7,8,9] # Rakamlar\n",
    "\n",
    "# int list"
   ]
  },
  {
   "cell_type": "code",
   "execution_count": null,
   "id": "38f0924b",
   "metadata": {},
   "outputs": [],
   "source": [
    "gunler_sayili = [\"Pazartesi\", 1, \"Salı\", 2, \"Çarşamba\", 3, \"Perşembe\", 4, \n",
    "          \"Cuma\", 5, \"Cumartesi\", 6, \"Pazar\", 7]"
   ]
  },
  {
   "cell_type": "code",
   "execution_count": null,
   "id": "eeaf9878",
   "metadata": {},
   "outputs": [],
   "source": [
    "print(gunler_sayili)"
   ]
  },
  {
   "cell_type": "code",
   "execution_count": null,
   "id": "f5bd49d7",
   "metadata": {},
   "outputs": [],
   "source": [
    "soguk_sicak = [True, False, False, True, False] # Bool list"
   ]
  },
  {
   "cell_type": "code",
   "execution_count": null,
   "id": "ba3cf2dc",
   "metadata": {},
   "outputs": [],
   "source": [
    "print(soguk_sicak)"
   ]
  },
  {
   "cell_type": "markdown",
   "id": "a6b2dd8f",
   "metadata": {},
   "source": [
    "---"
   ]
  },
  {
   "cell_type": "markdown",
   "id": "1aa83452",
   "metadata": {},
   "source": [
    "&rarr; Listerlerin içierisindeki elemanlara tek tek ulaşabiliriz.\n",
    "* Listelerin elemanlarına ait indexler bulunmaktadır. Bu indexler ilk eleman için sıfırdan başlayarak listenin eleman sayısı kadar ilerler."
   ]
  },
  {
   "cell_type": "code",
   "execution_count": null,
   "id": "2660d7b1",
   "metadata": {},
   "outputs": [],
   "source": [
    "print(gunler[2]) #Çarşamba\n",
    "print(gunler[0]) # Pazartesi"
   ]
  },
  {
   "cell_type": "markdown",
   "id": "e61ca08c",
   "metadata": {},
   "source": [
    "&rarr; Negatif indexleme yaparken listeyi tersten sıralayarak ilerleriz."
   ]
  },
  {
   "cell_type": "code",
   "execution_count": null,
   "id": "881843c3",
   "metadata": {},
   "outputs": [],
   "source": [
    "print(gunler[-7])"
   ]
  },
  {
   "cell_type": "code",
   "execution_count": null,
   "id": "b87cc78c",
   "metadata": {},
   "outputs": [],
   "source": [
    "print(gunler[-8])"
   ]
  },
  {
   "cell_type": "markdown",
   "id": "3125d47e",
   "metadata": {},
   "source": [
    "&rarr; Listelerdeki elemanların bir kısmını kolayca listeden çekip çıkarabiliriz\n",
    "\n",
    "`sayilar = [a,b)` -> a dahil b dahil değil!!!"
   ]
  },
  {
   "cell_type": "code",
   "execution_count": null,
   "id": "90a023d7",
   "metadata": {},
   "outputs": [],
   "source": [
    "# list slicing\n",
    "\n",
    "ilk_dort = gunler_sayili[0:4] ####!!! sayilar = [a,b)"
   ]
  },
  {
   "cell_type": "code",
   "execution_count": null,
   "id": "a86f80a8",
   "metadata": {},
   "outputs": [],
   "source": [
    "print(ilk_dort)"
   ]
  },
  {
   "cell_type": "code",
   "execution_count": null,
   "id": "1aadbe32",
   "metadata": {},
   "outputs": [],
   "source": [
    "print(gunler_sayili[:-1]) #son eleman"
   ]
  },
  {
   "cell_type": "markdown",
   "id": "e071ad1b",
   "metadata": {},
   "source": [
    "### Listeden Eleman Atlayarak Çekip Çıkarma\n",
    "\n",
    "`gunler_sayili[baslangıc_indexi:bitis_indexi: atlama_sayisi]`"
   ]
  },
  {
   "cell_type": "code",
   "execution_count": null,
   "id": "f2e0a8ba",
   "metadata": {},
   "outputs": [],
   "source": [
    "# gunler_sayili[baslangıc_indexi:bitis_indexi: atlama_sayisi]"
   ]
  },
  {
   "cell_type": "code",
   "execution_count": null,
   "id": "5840ac41",
   "metadata": {},
   "outputs": [],
   "source": [
    "print(gunler_sayili[1:14:2])"
   ]
  },
  {
   "cell_type": "code",
   "execution_count": null,
   "id": "f763502b",
   "metadata": {},
   "outputs": [],
   "source": [
    "sayilar = gunler_sayili[1:14:2]\n",
    "gunler = gunler_sayili[0:14:2]"
   ]
  },
  {
   "cell_type": "code",
   "execution_count": null,
   "id": "6d99ab80",
   "metadata": {},
   "outputs": [],
   "source": [
    "print(sayilar)\n",
    "print(gunler)"
   ]
  },
  {
   "cell_type": "code",
   "execution_count": null,
   "id": "eb62e269",
   "metadata": {},
   "outputs": [],
   "source": [
    "gunler_sayili = [\"Monday\", 1, \"Salı\", 2, \"Çarşamba\", 3, \"Perşembe\", 4, \n",
    "          \"Cuma\", 5, \"Cumartesi\", 6, \"Pazar\", 7]"
   ]
  },
  {
   "cell_type": "code",
   "execution_count": null,
   "id": "a95afb71",
   "metadata": {},
   "outputs": [],
   "source": [
    "print(gunler_sayili)"
   ]
  },
  {
   "cell_type": "code",
   "execution_count": null,
   "id": "b6bae996",
   "metadata": {},
   "outputs": [],
   "source": [
    "gunler_sayili[0] = \"Pazartesi\""
   ]
  },
  {
   "cell_type": "code",
   "execution_count": null,
   "id": "264101ef",
   "metadata": {},
   "outputs": [],
   "source": [
    "print(gunler_sayili)"
   ]
  },
  {
   "cell_type": "markdown",
   "id": "fa049e2f",
   "metadata": {},
   "source": [
    "---"
   ]
  },
  {
   "cell_type": "markdown",
   "id": "22311e58",
   "metadata": {},
   "source": [
    "### range() Objesi"
   ]
  },
  {
   "cell_type": "code",
   "execution_count": null,
   "id": "910db9af",
   "metadata": {},
   "outputs": [],
   "source": [
    "#range tek başına yazdırılamıyor\n",
    "\n",
    "print(range(0,10))"
   ]
  },
  {
   "cell_type": "code",
   "execution_count": null,
   "id": "d491cca1",
   "metadata": {},
   "outputs": [],
   "source": [
    "print(type(range(0,10))) # type metoduyla bakıldığında tipi yine range olarak görünüyor"
   ]
  },
  {
   "cell_type": "code",
   "execution_count": null,
   "id": "f58ee316",
   "metadata": {},
   "outputs": [],
   "source": [
    "print(list(range(20,100))) # ancak listeye çevrildiğinde okunaklı hale geliyor."
   ]
  },
  {
   "cell_type": "markdown",
   "id": "c58507cd",
   "metadata": {},
   "source": [
    "---"
   ]
  },
  {
   "cell_type": "markdown",
   "id": "b7469651",
   "metadata": {},
   "source": [
    "### For Döngüsü"
   ]
  },
  {
   "cell_type": "code",
   "execution_count": null,
   "id": "b08de5c3",
   "metadata": {},
   "outputs": [],
   "source": [
    "#for loop (döngü)\n",
    "\n",
    "print(gun)\n",
    "print(gunler)\n",
    "for gun in gunler:\n",
    "    print(gun)"
   ]
  },
  {
   "cell_type": "code",
   "execution_count": null,
   "id": "0af09594",
   "metadata": {},
   "outputs": [],
   "source": [
    "for gun in gunler_sayili[0:14:2]:\n",
    "    print(gun)"
   ]
  },
  {
   "cell_type": "code",
   "execution_count": null,
   "id": "b43cf13d",
   "metadata": {},
   "outputs": [],
   "source": [
    "for sayi in sayilar:\n",
    "    print(sayi)"
   ]
  },
  {
   "cell_type": "code",
   "execution_count": null,
   "id": "ceb0805f",
   "metadata": {},
   "outputs": [],
   "source": [
    "\n",
    "for i in sayilar:\n",
    "    print(i)"
   ]
  },
  {
   "cell_type": "code",
   "execution_count": null,
   "id": "adaf69ea",
   "metadata": {},
   "outputs": [],
   "source": [
    "for i in range(0,14):\n",
    "    \n",
    "    print(i)"
   ]
  },
  {
   "cell_type": "code",
   "execution_count": null,
   "id": "dd9183a3",
   "metadata": {},
   "outputs": [],
   "source": [
    "for i in range(0,13):\n",
    "    print(i, gunler_sayili[i-1])"
   ]
  },
  {
   "cell_type": "code",
   "execution_count": null,
   "id": "b7bf1aa5",
   "metadata": {},
   "outputs": [],
   "source": [
    "for i in range(0,14):\n",
    "    if( i % 2 == 0):\n",
    "        print(gunler_sayili[i])\n",
    "    else:\n",
    "        print(\"Atladı geçti\")"
   ]
  },
  {
   "cell_type": "markdown",
   "id": "2bf460bb",
   "metadata": {},
   "source": [
    "#### Liste İçindeki Elemanların Toplamı"
   ]
  },
  {
   "cell_type": "code",
   "execution_count": null,
   "id": "2a8a9469",
   "metadata": {},
   "outputs": [],
   "source": [
    "# Liste içindeki elemenlaron toplamı\n",
    "\"\"\"\n",
    "(0 + 1) + 2 + 3 = ?\n",
    "\n",
    "((0+1) + 2) + 3 = ?\n",
    "\n",
    "((0+1) + 2) + 3 = 6\n",
    "\n",
    "a+b= bilinen\n",
    "\n",
    "n.(n+1)/2\n",
    "\"\"\"\n",
    "\n",
    "liste = range(3) # 0, 1, 2\n",
    "\n",
    "kova = 0\n",
    "\n",
    "for i in liste:\n",
    "    \n",
    "    kova = kova + i\n",
    "    print(kova)\n",
    "    \n",
    "\"\"\"\n",
    "0. adım:\n",
    "    kova: 0\n",
    "    i = 0\n",
    "    print -> 0 0\n",
    "1. Adım:\n",
    "    print -> 0 0\n",
    "    kova: 0\n",
    "    i: 1\n",
    "2. Adım:\n",
    "    kova: 1\n",
    "    i = 2\n",
    "    \n",
    "    .\n",
    "    .\n",
    "    .\n",
    "\"\"\""
   ]
  },
  {
   "cell_type": "markdown",
   "id": "35d72a44",
   "metadata": {},
   "source": [
    "#### Faktöriyel Hesaplama"
   ]
  },
  {
   "cell_type": "code",
   "execution_count": null,
   "id": "85533cef",
   "metadata": {},
   "outputs": [],
   "source": [
    "# faktöriyel\n",
    "\n",
    "n = 13\n",
    "kova = 1\n",
    "\n",
    "for i in range(1,n+1):\n",
    "    kova = kova * i\n",
    "    print(kova)"
   ]
  },
  {
   "cell_type": "code",
   "execution_count": null,
   "id": "e35ca718",
   "metadata": {},
   "outputs": [],
   "source": [
    "print(kova) # Cevabı 24 beklkiyorum"
   ]
  },
  {
   "cell_type": "markdown",
   "id": "6074fe60",
   "metadata": {},
   "source": [
    "#### 1000'den küçük 3 ve 5'in Katı Olan Sayıları Topla"
   ]
  },
  {
   "cell_type": "code",
   "execution_count": null,
   "id": "a5bbdb0d",
   "metadata": {},
   "outputs": [],
   "source": [
    "# 1000 den küçük 3-5 katı olan sayıları topla\n",
    "\n",
    "\"\"\"\n",
    "1- > 3 ün katları nın toplamı\n",
    "2 -> 5 in katları nın toplamı\n",
    "3 -> 15 in katlarının toplamı\n",
    "4 -> 1 + 2 - 3\n",
    "\"\"\"\n",
    "\n",
    "kat_3 = list(range(3,1000,3))\n",
    "kat_5 = list(range(5,1000,5))\n",
    "kat_15 = list(range(15,1000,15))\n",
    "\n"
   ]
  },
  {
   "cell_type": "code",
   "execution_count": null,
   "id": "348d1c4f",
   "metadata": {},
   "outputs": [],
   "source": [
    "toplam_kat_3 = 0\n",
    "\n",
    "for i in kat_3:\n",
    "    toplam_kat_3 = toplam_kat_3 + i\n",
    "\n",
    "print(toplam_kat_3)\n",
    "\n",
    "toplam_kat_5 = 0\n",
    "\n",
    "for i in kat_5:\n",
    "    toplam_kat_5 = toplam_kat_5 + i\n",
    "\n",
    "print(toplam_kat_5)\n",
    "\n",
    "toplam_kat_15 = 0\n",
    "\n",
    "for i in kat_15:\n",
    "    toplam_kat_15 = toplam_kat_15 + i\n",
    "\n",
    "print(toplam_kat_15)"
   ]
  },
  {
   "cell_type": "code",
   "execution_count": null,
   "id": "9433d185",
   "metadata": {},
   "outputs": [],
   "source": [
    "sonuc = toplam_kat_3 + toplam_kat_5 - toplam_kat_15\n",
    "print(sonuc)"
   ]
  }
 ],
 "metadata": {
  "kernelspec": {
   "display_name": "Python 3 (ipykernel)",
   "language": "python",
   "name": "python3"
  },
  "language_info": {
   "codemirror_mode": {
    "name": "ipython",
    "version": 3
   },
   "file_extension": ".py",
   "mimetype": "text/x-python",
   "name": "python",
   "nbconvert_exporter": "python",
   "pygments_lexer": "ipython3",
   "version": "3.9.15"
  }
 },
 "nbformat": 4,
 "nbformat_minor": 5
}
