{
 "cells": [
  {
   "cell_type": "markdown",
   "id": "0a0c599d",
   "metadata": {},
   "source": [
    "* list comprehension\n",
    "* List Methods\n",
    "    * len()\n",
    "    * .append()\n",
    "    * .pop()\n",
    "    * .remove()\n",
    "    * .extend()\n",
    "    * .index()\n",
    "---\n",
    "\n",
    "While Döngüsü\n",
    "\n",
    "![](for-while.png)\n",
    "\n",
    "Fonksyon Tanımlama\n",
    "\n",
    "Sorular çözeceğiz.\n",
    "\n",
    "* [String Haftası](https://github.com/bouncmpe150/python-notes/tree/main/week07)\n",
    "    * 1. Soru\n",
    "    * 3. Soru\n",
    "    * 4. Soru\n",
    "    * 8. Soru\n",
    "* Int List Soruları\n",
    "    * Fibonacci Numbers\n",
    "    * Digit Count\n",
    "    * IsPrime\n",
    "    * Prime factors\n",
    "\n",
    "---\n",
    "\n",
    "Ödev Soruları\n",
    "\n",
    "1. [Isogram](https://www.codewars.com/kata/54ba84be607a92aa900000f1/train/python)\n",
    "2. [Return Negative](https://www.codewars.com/kata/55685cd7ad70877c23000102/train/python)\n",
    "3. [How good You Really Are?](https://www.codewars.com/kata/5601409514fc93442500010b/train/python)"
   ]
  }
 ],
 "metadata": {
  "kernelspec": {
   "display_name": "Python 3 (ipykernel)",
   "language": "python",
   "name": "python3"
  },
  "language_info": {
   "codemirror_mode": {
    "name": "ipython",
    "version": 3
   },
   "file_extension": ".py",
   "mimetype": "text/x-python",
   "name": "python",
   "nbconvert_exporter": "python",
   "pygments_lexer": "ipython3",
   "version": "3.9.15"
  }
 },
 "nbformat": 4,
 "nbformat_minor": 5
}
