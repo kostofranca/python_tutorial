{
 "cells": [
  {
   "cell_type": "code",
   "execution_count": null,
   "id": "864e2cdf",
   "metadata": {},
   "outputs": [],
   "source": [
    "# 1. Soru\n",
    "\n",
    "for i in range(1,101):\n",
    "    print(i)"
   ]
  },
  {
   "cell_type": "code",
   "execution_count": null,
   "id": "5d91ad5e",
   "metadata": {},
   "outputs": [],
   "source": [
    "print((list(range(int(input()),100))))"
   ]
  },
  {
   "cell_type": "code",
   "execution_count": null,
   "id": "73afcf58",
   "metadata": {},
   "outputs": [],
   "source": [
    "user_input = input()"
   ]
  },
  {
   "cell_type": "code",
   "execution_count": null,
   "id": "f7797f32",
   "metadata": {},
   "outputs": [],
   "source": [
    "print(type(user_input))"
   ]
  },
  {
   "cell_type": "code",
   "execution_count": null,
   "id": "4c7946a1",
   "metadata": {},
   "outputs": [],
   "source": [
    "a = 2\n",
    "b = 4\n",
    "\n",
    "product = 1\n",
    "\n",
    "for i in range(b):\n",
    "    product *= a\n",
    "    print(\"{}. Adımda Product değeri {}\".format(i+1, product))\n",
    "    \n"
   ]
  },
  {
   "cell_type": "code",
   "execution_count": null,
   "id": "2813a839",
   "metadata": {},
   "outputs": [],
   "source": [
    "# a^b = a*a*a*a*a.... b kere\n",
    "\n",
    "# b*a = a+a+a+a .... b kere topla\n",
    "\n",
    "a = 2\n",
    "b = 4\n",
    "\n",
    "product = 1\n",
    "\n",
    "for i in range(b):\n",
    "    product *= a\n",
    "    print(f\"{i+1}. Adımda Product değeri {product}\")\n",
    "    \n"
   ]
  },
  {
   "cell_type": "markdown",
   "id": "21f848e6",
   "metadata": {},
   "source": [
    "---"
   ]
  },
  {
   "cell_type": "code",
   "execution_count": null,
   "id": "47f1696d",
   "metadata": {},
   "outputs": [],
   "source": [
    "for i in range(10):\n",
    "    print(i)"
   ]
  },
  {
   "cell_type": "code",
   "execution_count": null,
   "id": "dae3fbfb",
   "metadata": {},
   "outputs": [],
   "source": [
    "ilk10_alternatif = [i for i in range(10)]\n",
    "\n",
    "print(ilk10_alternatif)"
   ]
  },
  {
   "cell_type": "code",
   "execution_count": 4,
   "id": "581deffd",
   "metadata": {},
   "outputs": [],
   "source": [
    "isimler = [\"Ahmet\", \"Mustafa1\", \"Mustafa2\", \"Abdullah\", \"Berat\",\"Hüseyin\"]"
   ]
  },
  {
   "cell_type": "code",
   "execution_count": null,
   "id": "18544779",
   "metadata": {},
   "outputs": [],
   "source": [
    "print(f\"İsimlerin eleman sayısı {len(isimler)}\") # length\n",
    "\n",
    "# len -> built-in function"
   ]
  },
  {
   "cell_type": "code",
   "execution_count": null,
   "id": "a9311d9b",
   "metadata": {},
   "outputs": [],
   "source": [
    "# f(x) = y\n",
    "\n",
    "\"\"\"\n",
    "x => input\n",
    "y => output\n",
    "f -> machine\n",
    "\"\"\""
   ]
  },
  {
   "cell_type": "code",
   "execution_count": null,
   "id": "11322916",
   "metadata": {},
   "outputs": [],
   "source": [
    "# append() Metod\n",
    "\n",
    "isimler.append(\"Muzaffer\") # Bir input alır ve listenin sonuna eklenir."
   ]
  },
  {
   "cell_type": "code",
   "execution_count": null,
   "id": "a371e5f5",
   "metadata": {},
   "outputs": [],
   "source": [
    "print(isimler)"
   ]
  },
  {
   "cell_type": "code",
   "execution_count": null,
   "id": "a7f744db",
   "metadata": {},
   "outputs": [],
   "source": [
    "ilk10_alternatif.pop() # Sondaki 1 elemanı atar"
   ]
  },
  {
   "cell_type": "code",
   "execution_count": null,
   "id": "fee9f7b3",
   "metadata": {},
   "outputs": [],
   "source": [
    "ilk10_alternatif.pop(-3)\n",
    "\n",
    "\n",
    "print(ilk10_alternatif)"
   ]
  },
  {
   "cell_type": "code",
   "execution_count": null,
   "id": "5f104eee",
   "metadata": {},
   "outputs": [],
   "source": [
    "print(ilk10_alternatif)"
   ]
  },
  {
   "cell_type": "code",
   "execution_count": null,
   "id": "b9d55b07",
   "metadata": {},
   "outputs": [],
   "source": [
    "incinmissin = ilk10_alternatif.pop()"
   ]
  },
  {
   "cell_type": "code",
   "execution_count": null,
   "id": "e371c815",
   "metadata": {},
   "outputs": [],
   "source": [
    "print(incinmissin)"
   ]
  },
  {
   "cell_type": "code",
   "execution_count": null,
   "id": "8cc4e0ad",
   "metadata": {},
   "outputs": [],
   "source": [
    "print(ilk10_alternatif)"
   ]
  },
  {
   "cell_type": "code",
   "execution_count": null,
   "id": "186f4c3e",
   "metadata": {},
   "outputs": [],
   "source": [
    "isimler.remove(\"Mustafa2\")\n",
    "\n",
    "print(isimler)"
   ]
  },
  {
   "cell_type": "code",
   "execution_count": null,
   "id": "bda6e612",
   "metadata": {},
   "outputs": [],
   "source": [
    "index = isimler.index(\"Mustafa2\")\n",
    "\n",
    "print(index)"
   ]
  },
  {
   "cell_type": "code",
   "execution_count": null,
   "id": "b0ac475b",
   "metadata": {},
   "outputs": [],
   "source": [
    "isimler.pop(isimler.index(\"Mustafa2\")) # .remove()\n",
    "\n",
    "print(isimler)"
   ]
  },
  {
   "cell_type": "code",
   "execution_count": null,
   "id": "0ca7bf02",
   "metadata": {},
   "outputs": [],
   "source": [
    "isimler.insert(index, \"Mustafa2\")\n",
    "\n",
    "print(isimler)"
   ]
  },
  {
   "cell_type": "code",
   "execution_count": null,
   "id": "263fc9ab",
   "metadata": {},
   "outputs": [],
   "source": [
    "isimler.sort()"
   ]
  },
  {
   "cell_type": "code",
   "execution_count": null,
   "id": "96aef353",
   "metadata": {},
   "outputs": [],
   "source": [
    "print(isimler)"
   ]
  },
  {
   "cell_type": "code",
   "execution_count": null,
   "id": "5b9a73b3",
   "metadata": {},
   "outputs": [],
   "source": [
    "isimler # objesi, listesi\n",
    "isimler.pop() # son eleman\n",
    "\n",
    "isimler.sort() # obje değil None\n",
    "isimler # yeni obje"
   ]
  },
  {
   "cell_type": "code",
   "execution_count": null,
   "id": "65a5a9c1",
   "metadata": {},
   "outputs": [],
   "source": [
    "sorted_isimler = sorted(isimler)"
   ]
  },
  {
   "cell_type": "code",
   "execution_count": null,
   "id": "70db34f8",
   "metadata": {},
   "outputs": [],
   "source": [
    "print(isimler)\n",
    "print(sorted_isimler)"
   ]
  },
  {
   "cell_type": "markdown",
   "id": "d113efe9",
   "metadata": {},
   "source": [
    "---"
   ]
  },
  {
   "cell_type": "code",
   "execution_count": null,
   "id": "764c42aa",
   "metadata": {},
   "outputs": [],
   "source": [
    "for i in range(0,10):\n",
    "    print(i)"
   ]
  },
  {
   "cell_type": "code",
   "execution_count": null,
   "id": "76ab6915",
   "metadata": {},
   "outputs": [],
   "source": [
    "i = 0\n",
    "\n",
    "while(i < 10):\n",
    "    print(i)\n",
    "    i += 1"
   ]
  },
  {
   "cell_type": "code",
   "execution_count": null,
   "id": "526551a1",
   "metadata": {},
   "outputs": [],
   "source": [
    "while(\"False\"):\n",
    "    print(\"i\")"
   ]
  },
  {
   "cell_type": "code",
   "execution_count": 2,
   "id": "197186af",
   "metadata": {},
   "outputs": [
    {
     "ename": "NameError",
     "evalue": "name 'condition' is not defined",
     "output_type": "error",
     "traceback": [
      "\u001b[0;31m---------------------------------------------------------------------------\u001b[0m",
      "\u001b[0;31mNameError\u001b[0m                                 Traceback (most recent call last)",
      "Cell \u001b[0;32mIn [2], line 3\u001b[0m\n\u001b[1;32m      1\u001b[0m baslangıc \u001b[38;5;241m=\u001b[39m \u001b[38;5;241m0\u001b[39m\n\u001b[0;32m----> 3\u001b[0m \u001b[38;5;28;01mwhile\u001b[39;00m(\u001b[43mcondition\u001b[49m):\n\u001b[1;32m      4\u001b[0m     \u001b[38;5;66;03m# islem\u001b[39;00m\n\u001b[1;32m      5\u001b[0m     \u001b[38;5;28;01mpass\u001b[39;00m\n",
      "\u001b[0;31mNameError\u001b[0m: name 'condition' is not defined"
     ]
    }
   ],
   "source": [
    "baslangıc = 0\n",
    "\n",
    "while(condition):\n",
    "    # islem"
   ]
  },
  {
   "cell_type": "markdown",
   "id": "40b1b9a8",
   "metadata": {},
   "source": [
    "---"
   ]
  },
  {
   "cell_type": "code",
   "execution_count": 10,
   "id": "7ed8921f",
   "metadata": {},
   "outputs": [
    {
     "name": "stdout",
     "output_type": "stream",
     "text": [
      "[1, 1, 2]\n",
      "[1, 1, 2, 3]\n",
      "[1, 1, 2, 3, 5]\n",
      "[1, 1, 2, 3, 5, 8]\n",
      "[1, 1, 2, 3, 5, 8, 13]\n",
      "[1, 1, 2, 3, 5, 8, 13, 21]\n",
      "[1, 1, 2, 3, 5, 8, 13, 21, 34]\n",
      "[1, 1, 2, 3, 5, 8, 13, 21, 34, 55]\n",
      "[1, 1, 2, 3, 5, 8, 13, 21, 34, 55]\n"
     ]
    }
   ],
   "source": [
    "n = 10\n",
    "\n",
    "fibonacci_n = [1,1]\n",
    "\n",
    "\n",
    "for i in range(2, n):\n",
    "    fibonacci_n.append(fibonacci_n[i-1] + fibonacci_n[i-2])\n",
    "    print(fibonacci_n) #            1 +   1\n",
    "\n",
    "print(fibonacci_n)"
   ]
  },
  {
   "cell_type": "code",
   "execution_count": 15,
   "id": "4d6f191d",
   "metadata": {},
   "outputs": [],
   "source": [
    "def fibonacci(n):\n",
    "    fibonacci_n = [1,1]\n",
    "    \n",
    "    for i in range(2, n):\n",
    "        fibonacci_n.append(fibonacci_n[i-1] + fibonacci_n[i-2])\n",
    "    print(fibonacci_n)"
   ]
  },
  {
   "cell_type": "code",
   "execution_count": 44,
   "id": "c2cf8895",
   "metadata": {},
   "outputs": [
    {
     "name": "stdout",
     "output_type": "stream",
     "text": [
      "[1, 1]\n"
     ]
    }
   ],
   "source": [
    "fibonacci(2)"
   ]
  },
  {
   "cell_type": "code",
   "execution_count": 51,
   "id": "708cbdac",
   "metadata": {},
   "outputs": [],
   "source": [
    "def is_isogram(string):\n",
    "    #your code here\n",
    "    distinct = \"\"\n",
    "\n",
    "    for i in string:\n",
    "        if(i not in distinct):\n",
    "            distinct += i\n",
    "    print(distinct)\n",
    "    return distinct == string # True, False"
   ]
  },
  {
   "cell_type": "code",
   "execution_count": 52,
   "id": "fa1f27c0",
   "metadata": {},
   "outputs": [
    {
     "name": "stdout",
     "output_type": "stream",
     "text": [
      "ahmet\n",
      "True\n"
     ]
    }
   ],
   "source": [
    "string = \"AHMET\"\n",
    "\n",
    "print(is_isogram(string.lower()))"
   ]
  },
  {
   "cell_type": "code",
   "execution_count": null,
   "id": "53f9c08c",
   "metadata": {},
   "outputs": [],
   "source": []
  }
 ],
 "metadata": {
  "kernelspec": {
   "display_name": "Python 3 (ipykernel)",
   "language": "python",
   "name": "python3"
  },
  "language_info": {
   "codemirror_mode": {
    "name": "ipython",
    "version": 3
   },
   "file_extension": ".py",
   "mimetype": "text/x-python",
   "name": "python",
   "nbconvert_exporter": "python",
   "pygments_lexer": "ipython3",
   "version": "3.9.15"
  }
 },
 "nbformat": 4,
 "nbformat_minor": 5
}
