{
 "cells": [
  {
   "cell_type": "markdown",
   "id": "df6780ce",
   "metadata": {},
   "source": [
    "### Lists\n",
    "\n",
    "* Listeler bir değişken türüdür. type([])\n",
    "* İtere edilebilir objelerin en basitidir. (lists, dict, set, tuple)\n",
    "* İçinde farklı veri tiplerini tutabilirler.\n",
    "* İçindeki elemanlara indexleri aracılığı ile ulaşılır. Ve değiştirilebilirler.\n",
    "* list slicing ile içerisinden eleman çekeriz.\n",
    "* range() ile\n",
    "* list comprehension\n",
    "* List Methods\n",
    "    * len()\n",
    "    * .append()\n",
    "    * .pop()\n",
    "    * .remove()\n",
    "    * .extend()\n",
    "    * .index()"
   ]
  },
  {
   "cell_type": "markdown",
   "id": "eea828d4",
   "metadata": {},
   "source": [
    "### Loops\n",
    "\n",
    "#### _For_ Loops"
   ]
  },
  {
   "cell_type": "code",
   "execution_count": null,
   "id": "4a529c6d",
   "metadata": {},
   "outputs": [],
   "source": [
    "for element in liste:\n",
    "    print(liste)"
   ]
  },
  {
   "cell_type": "code",
   "execution_count": null,
   "id": "bb193175",
   "metadata": {},
   "outputs": [],
   "source": [
    "for i in range(len(liste)):\n",
    "    print(liste[i])"
   ]
  },
  {
   "cell_type": "code",
   "execution_count": null,
   "id": "98d67bbb",
   "metadata": {},
   "outputs": [],
   "source": [
    "# Sum in a given range\n"
   ]
  },
  {
   "cell_type": "code",
   "execution_count": 4,
   "id": "7df2b226",
   "metadata": {},
   "outputs": [
    {
     "name": "stdout",
     "output_type": "stream",
     "text": [
      "120\n"
     ]
    }
   ],
   "source": [
    "# factorial calculation\n",
    "\n",
    "result = 1\n",
    "n = 4\n",
    "for i in range(1, n+1):\n",
    "    result *= i\n",
    "    \n",
    "print(result)"
   ]
  },
  {
   "cell_type": "code",
   "execution_count": 7,
   "id": "6853d27c",
   "metadata": {},
   "outputs": [
    {
     "name": "stdout",
     "output_type": "stream",
     "text": [
      "24\n"
     ]
    }
   ],
   "source": [
    "n = 4\n",
    "result = 1\n",
    "\n",
    "numbers = [number for number in range(1, n+1)]\n",
    "\n",
    "for i in numbers:\n",
    "    result *= i\n",
    "print(result)"
   ]
  },
  {
   "cell_type": "code",
   "execution_count": null,
   "id": "7f634cb0",
   "metadata": {},
   "outputs": [],
   "source": [
    "# decremental for loop"
   ]
  },
  {
   "cell_type": "code",
   "execution_count": null,
   "id": "e5e54bc6",
   "metadata": {},
   "outputs": [],
   "source": [
    "# list sorting"
   ]
  },
  {
   "cell_type": "code",
   "execution_count": null,
   "id": "adf1ffed",
   "metadata": {},
   "outputs": [],
   "source": []
  },
  {
   "cell_type": "code",
   "execution_count": null,
   "id": "178a9663",
   "metadata": {},
   "outputs": [],
   "source": []
  },
  {
   "cell_type": "code",
   "execution_count": null,
   "id": "a431638d",
   "metadata": {},
   "outputs": [],
   "source": []
  }
 ],
 "metadata": {
  "kernelspec": {
   "display_name": "Python 3 (ipykernel)",
   "language": "python",
   "name": "python3"
  },
  "language_info": {
   "codemirror_mode": {
    "name": "ipython",
    "version": 3
   },
   "file_extension": ".py",
   "mimetype": "text/x-python",
   "name": "python",
   "nbconvert_exporter": "python",
   "pygments_lexer": "ipython3",
   "version": "3.9.15"
  }
 },
 "nbformat": 4,
 "nbformat_minor": 5
}
