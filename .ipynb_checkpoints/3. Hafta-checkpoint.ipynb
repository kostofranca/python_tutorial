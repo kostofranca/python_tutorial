{
 "cells": [
  {
   "cell_type": "markdown",
   "id": "5ce4852b",
   "metadata": {},
   "source": [
    "### Liste Tipindeki Değişkenler\n",
    "\n",
    "* <b> Ayrıntılı bilgi için <a href=\"https://www.programiz.com/python-programming/list\">buradan</a> da çalışınız</b>"
   ]
  },
  {
   "cell_type": "code",
   "execution_count": 2,
   "id": "6d577d73",
   "metadata": {},
   "outputs": [
    {
     "data": {
      "text/plain": [
       "'\\nIterable Veri Tipleri\\n\\nlist: liste -> gunler = []\\ndict: dictionary -> sözlük = {}\\nset: set(liste)\\ntuple: (1,2,3)\\nrange\\n'"
      ]
     },
     "execution_count": 2,
     "metadata": {},
     "output_type": "execute_result"
    }
   ],
   "source": [
    "### Boş liste tanımlama\n",
    "gunler = [] # List()\n",
    "\n",
    "\"\"\"\n",
    "Iterable Veri Tipleri\n",
    "\n",
    "list: liste -> gunler = []\n",
    "dict: dictionary -> sözlük = {}\n",
    "set: set(liste)\n",
    "tuple: (1,2,3)\n",
    "range\n",
    "\"\"\""
   ]
  },
  {
   "cell_type": "code",
   "execution_count": 3,
   "id": "188bd5ff",
   "metadata": {},
   "outputs": [
    {
     "name": "stdout",
     "output_type": "stream",
     "text": [
      "<class 'list'>\n"
     ]
    }
   ],
   "source": [
    "# Tipini yazdırdığımızda \"<class 'list'>\" görürüz.\n",
    "print(type(gunler))"
   ]
  },
  {
   "cell_type": "markdown",
   "id": "7f411628",
   "metadata": {},
   "source": [
    "---"
   ]
  },
  {
   "cell_type": "markdown",
   "id": "da00ab12",
   "metadata": {},
   "source": [
    "&rarr; Listeler içerisinde tek bir veri tipinden objeler de tutabilir, aynı anda farklı tipteki verileri de saklayabilir."
   ]
  },
  {
   "cell_type": "code",
   "execution_count": 5,
   "id": "2514c6ee",
   "metadata": {},
   "outputs": [],
   "source": [
    "gunler = [\"Pazartesi\", \"Salı\", \"Çarşamba\", \"Perşembe\", \n",
    "          \"Cuma\", \"Cumartesi\", \"Pazar\"]\n",
    "\n",
    "# string list"
   ]
  },
  {
   "cell_type": "code",
   "execution_count": null,
   "id": "cd4146a9",
   "metadata": {},
   "outputs": [],
   "source": [
    "print((type(gunler)))"
   ]
  },
  {
   "cell_type": "code",
   "execution_count": null,
   "id": "3310707d",
   "metadata": {},
   "outputs": [],
   "source": [
    "sayma_sayilari = [0,1,2,3,4,5,6,7,8,9] # Rakamlar\n",
    "\n",
    "# int list"
   ]
  },
  {
   "cell_type": "code",
   "execution_count": 2,
   "id": "38f0924b",
   "metadata": {},
   "outputs": [],
   "source": [
    "gunler_sayili = [\"Pazartesi\", 1, \"Salı\", 2, \"Çarşamba\", 3, \"Perşembe\", 4, \n",
    "          \"Cuma\", 5, \"Cumartesi\", 6, \"Pazar\", 7]"
   ]
  },
  {
   "cell_type": "code",
   "execution_count": null,
   "id": "eeaf9878",
   "metadata": {},
   "outputs": [],
   "source": [
    "print(gunler_sayili)"
   ]
  },
  {
   "cell_type": "markdown",
   "id": "c379386a",
   "metadata": {},
   "source": [
    "---"
   ]
  },
  {
   "cell_type": "markdown",
   "id": "de285f2b",
   "metadata": {},
   "source": [
    "&rarr; Listerlerin içierisindeki elemanlara tek tek ulaşabiliriz."
   ]
  },
  {
   "cell_type": "code",
   "execution_count": 6,
   "id": "2660d7b1",
   "metadata": {},
   "outputs": [
    {
     "name": "stdout",
     "output_type": "stream",
     "text": [
      "Çarşamba\n",
      "Pazartesi\n"
     ]
    }
   ],
   "source": [
    "print(gunler[2]) #Çarşamba\n",
    "print(gunler[0]) # Pazartesi"
   ]
  },
  {
   "cell_type": "code",
   "execution_count": null,
   "id": "881843c3",
   "metadata": {},
   "outputs": [],
   "source": [
    "print(gunler[-7])"
   ]
  },
  {
   "cell_type": "code",
   "execution_count": null,
   "id": "b87cc78c",
   "metadata": {},
   "outputs": [],
   "source": [
    "print(gunler[-8])"
   ]
  },
  {
   "cell_type": "code",
   "execution_count": null,
   "id": "25fb8d32",
   "metadata": {},
   "outputs": [],
   "source": [
    "soguk_sicak = [True, False, False, True, False] # Bool list"
   ]
  },
  {
   "cell_type": "code",
   "execution_count": null,
   "id": "a22354bd",
   "metadata": {},
   "outputs": [],
   "source": [
    "print(soguk_sicak)"
   ]
  },
  {
   "cell_type": "code",
   "execution_count": null,
   "id": "90a023d7",
   "metadata": {},
   "outputs": [],
   "source": [
    "# list slicing\n",
    "\n",
    "ilk_dort = gunler_sayili[0:4] ####!!! sayilar = [a,b)"
   ]
  },
  {
   "cell_type": "code",
   "execution_count": null,
   "id": "a86f80a8",
   "metadata": {},
   "outputs": [],
   "source": [
    "print(ilk_dort)"
   ]
  },
  {
   "cell_type": "code",
   "execution_count": null,
   "id": "1aadbe32",
   "metadata": {},
   "outputs": [],
   "source": [
    "print(gunler_sayili[:-1])"
   ]
  },
  {
   "cell_type": "code",
   "execution_count": null,
   "id": "f2e0a8ba",
   "metadata": {},
   "outputs": [],
   "source": [
    "# gunler_sayili[baslanbıc_indexi:bitis_indexi: atlama_sayisi]"
   ]
  },
  {
   "cell_type": "code",
   "execution_count": null,
   "id": "5840ac41",
   "metadata": {},
   "outputs": [],
   "source": [
    "print(gunler_sayili[1:14:2])"
   ]
  },
  {
   "cell_type": "code",
   "execution_count": 3,
   "id": "f763502b",
   "metadata": {},
   "outputs": [],
   "source": [
    "sayilar = gunler_sayili[1:14:2]\n",
    "gunler = gunler_sayili[0:14:2]"
   ]
  },
  {
   "cell_type": "code",
   "execution_count": null,
   "id": "6d99ab80",
   "metadata": {},
   "outputs": [],
   "source": [
    "print(sayilar)\n",
    "print(gunler)"
   ]
  },
  {
   "cell_type": "code",
   "execution_count": 1,
   "id": "eb62e269",
   "metadata": {},
   "outputs": [],
   "source": [
    "gunler_sayili = [\"Monday\", 1, \"Salı\", 2, \"Çarşamba\", 3, \"Perşembe\", 4, \n",
    "          \"Cuma\", 5, \"Cumartesi\", 6, \"Pazar\", 7]"
   ]
  },
  {
   "cell_type": "code",
   "execution_count": null,
   "id": "a95afb71",
   "metadata": {},
   "outputs": [],
   "source": [
    "print(gunler_sayili)"
   ]
  },
  {
   "cell_type": "code",
   "execution_count": null,
   "id": "b6bae996",
   "metadata": {},
   "outputs": [],
   "source": [
    "gunler_sayili[0] = \"Pazartesi\""
   ]
  },
  {
   "cell_type": "code",
   "execution_count": null,
   "id": "264101ef",
   "metadata": {},
   "outputs": [],
   "source": [
    "print(gunler_sayili)"
   ]
  },
  {
   "cell_type": "markdown",
   "id": "fa049e2f",
   "metadata": {},
   "source": [
    "---"
   ]
  },
  {
   "cell_type": "code",
   "execution_count": 14,
   "id": "910db9af",
   "metadata": {},
   "outputs": [
    {
     "name": "stdout",
     "output_type": "stream",
     "text": [
      "range(0,10)\n"
     ]
    }
   ],
   "source": [
    "#range\n",
    "\n",
    "print(range(0,10))"
   ]
  },
  {
   "cell_type": "code",
   "execution_count": 15,
   "id": "d491cca1",
   "metadata": {},
   "outputs": [
    {
     "name": "stdout",
     "output_type": "stream",
     "text": [
      "<class 'range'>\n"
     ]
    }
   ],
   "source": [
    "print(type(range(0,10)))"
   ]
  },
  {
   "cell_type": "code",
   "execution_count": 17,
   "id": "f58ee316",
   "metadata": {},
   "outputs": [
    {
     "name": "stdout",
     "output_type": "stream",
     "text": [
      "[20, 21, 22, 23, 24, 25, 26, 27, 28, 29, 30, 31, 32, 33, 34, 35, 36, 37, 38, 39, 40, 41, 42, 43, 44, 45, 46, 47, 48, 49, 50, 51, 52, 53, 54, 55, 56, 57, 58, 59, 60, 61, 62, 63, 64, 65, 66, 67, 68, 69, 70, 71, 72, 73, 74, 75, 76, 77, 78, 79, 80, 81, 82, 83, 84, 85, 86, 87, 88, 89, 90, 91, 92, 93, 94, 95, 96, 97, 98, 99]\n"
     ]
    }
   ],
   "source": [
    "print(list(range(20,100)))"
   ]
  },
  {
   "cell_type": "code",
   "execution_count": 23,
   "id": "b08de5c3",
   "metadata": {},
   "outputs": [
    {
     "name": "stdout",
     "output_type": "stream",
     "text": [
      "Pazar\n",
      "['Pazartesi', 'Salı', 'Çarşamba', 'Perşembe', 'Cuma', 'Cumartesi', 'Pazar']\n",
      "Pazartesi\n",
      "Salı\n",
      "Çarşamba\n",
      "Perşembe\n",
      "Cuma\n",
      "Cumartesi\n",
      "Pazar\n"
     ]
    }
   ],
   "source": [
    "#for loop (döngü)\n",
    "\n",
    "print(gun)\n",
    "print(gunler)\n",
    "for gun in gunler:\n",
    "    print(gun)"
   ]
  },
  {
   "cell_type": "code",
   "execution_count": 9,
   "id": "0af09594",
   "metadata": {},
   "outputs": [
    {
     "name": "stdout",
     "output_type": "stream",
     "text": [
      "Pazartesi\n",
      "Salı\n",
      "Çarşamba\n",
      "Perşembe\n",
      "Cuma\n",
      "Cumartesi\n",
      "Pazar\n"
     ]
    }
   ],
   "source": [
    "for gun in gunler_sayili[0:14:2]:\n",
    "    print(gun)"
   ]
  },
  {
   "cell_type": "code",
   "execution_count": 10,
   "id": "b43cf13d",
   "metadata": {},
   "outputs": [
    {
     "name": "stdout",
     "output_type": "stream",
     "text": [
      "1\n",
      "2\n",
      "3\n",
      "4\n",
      "5\n",
      "6\n",
      "7\n"
     ]
    }
   ],
   "source": [
    "for sayi in sayilar:\n",
    "    print(sayi)"
   ]
  },
  {
   "cell_type": "code",
   "execution_count": 11,
   "id": "ceb0805f",
   "metadata": {},
   "outputs": [
    {
     "name": "stdout",
     "output_type": "stream",
     "text": [
      "1\n",
      "2\n",
      "3\n",
      "4\n",
      "5\n",
      "6\n",
      "7\n"
     ]
    }
   ],
   "source": [
    "\n",
    "for i in sayilar:\n",
    "    print(i)"
   ]
  },
  {
   "cell_type": "code",
   "execution_count": 25,
   "id": "adaf69ea",
   "metadata": {},
   "outputs": [
    {
     "name": "stdout",
     "output_type": "stream",
     "text": [
      "0\n",
      "\n",
      "1\n",
      "\n",
      "2\n",
      "\n",
      "3\n",
      "\n",
      "4\n",
      "\n",
      "5\n",
      "\n",
      "6\n",
      "\n",
      "7\n",
      "\n",
      "8\n",
      "\n",
      "9\n",
      "\n",
      "10\n",
      "\n",
      "11\n",
      "\n",
      "12\n",
      "\n",
      "13\n",
      "\n"
     ]
    }
   ],
   "source": [
    "for i in range(0,14):\n",
    "    \n",
    "    print(i)"
   ]
  },
  {
   "cell_type": "code",
   "execution_count": 29,
   "id": "dd9183a3",
   "metadata": {},
   "outputs": [
    {
     "name": "stdout",
     "output_type": "stream",
     "text": [
      "0 7\n",
      "1 Pazartesi\n",
      "2 1\n",
      "3 Salı\n",
      "4 2\n",
      "5 Çarşamba\n",
      "6 3\n",
      "7 Perşembe\n",
      "8 4\n",
      "9 Cuma\n",
      "10 5\n",
      "11 Cumartesi\n",
      "12 6\n"
     ]
    }
   ],
   "source": [
    "for i in range(0,13):\n",
    "    print(i, gunler_sayili[i-1])"
   ]
  },
  {
   "cell_type": "code",
   "execution_count": 31,
   "id": "b7bf1aa5",
   "metadata": {},
   "outputs": [
    {
     "name": "stdout",
     "output_type": "stream",
     "text": [
      "Pazartesi\n",
      "Atladı geçti\n",
      "Salı\n",
      "Atladı geçti\n",
      "Çarşamba\n",
      "Atladı geçti\n",
      "Perşembe\n",
      "Atladı geçti\n",
      "Cuma\n",
      "Atladı geçti\n",
      "Cumartesi\n",
      "Atladı geçti\n",
      "Pazar\n",
      "Atladı geçti\n"
     ]
    }
   ],
   "source": [
    "for i in range(0,14):\n",
    "    if( i % 2 == 0):\n",
    "        print(gunler_sayili[i])\n",
    "    else:\n",
    "        print(\"Atladı geçti\")"
   ]
  },
  {
   "cell_type": "code",
   "execution_count": 63,
   "id": "2a8a9469",
   "metadata": {},
   "outputs": [
    {
     "name": "stdout",
     "output_type": "stream",
     "text": [
      "0\n",
      "1\n",
      "3\n"
     ]
    },
    {
     "data": {
      "text/plain": [
       "'\\n0. adım:\\n    kova: 0\\n    i = 0\\n    print -> 0 0\\n1. Adım:\\n    print -> 0 0\\n    kova: 0\\n    i: 1\\n2. Adım:\\n    kova: 1\\n    i = 2\\n    \\n    .\\n    .\\n    .\\n'"
      ]
     },
     "execution_count": 63,
     "metadata": {},
     "output_type": "execute_result"
    }
   ],
   "source": [
    "# Liste içindeki elemenlaron toplamı\n",
    "\"\"\"\n",
    "(0 + 1) + 2 + 3 = ?\n",
    "\n",
    "((0+1) + 2) + 3 = ?\n",
    "\n",
    "((0+1) + 2) + 3 = 6\n",
    "\n",
    "a+b= bilinen\n",
    "\n",
    "n.(n+1)/2\n",
    "\"\"\"\n",
    "\n",
    "liste = range(3) # 0, 1, 2\n",
    "\n",
    "kova = 0\n",
    "\n",
    "for i in liste:\n",
    "    \n",
    "    kova = kova + i\n",
    "    print(kova)\n",
    "    \n",
    "\"\"\"\n",
    "0. adım:\n",
    "    kova: 0\n",
    "    i = 0\n",
    "    print -> 0 0\n",
    "1. Adım:\n",
    "    print -> 0 0\n",
    "    kova: 0\n",
    "    i: 1\n",
    "2. Adım:\n",
    "    kova: 1\n",
    "    i = 2\n",
    "    \n",
    "    .\n",
    "    .\n",
    "    .\n",
    "\"\"\""
   ]
  },
  {
   "cell_type": "code",
   "execution_count": 50,
   "id": "85533cef",
   "metadata": {},
   "outputs": [
    {
     "name": "stdout",
     "output_type": "stream",
     "text": [
      "1\n",
      "2\n",
      "6\n",
      "24\n",
      "120\n",
      "720\n",
      "5040\n",
      "40320\n",
      "362880\n",
      "3628800\n",
      "39916800\n",
      "479001600\n",
      "6227020800\n"
     ]
    }
   ],
   "source": [
    "# faktöriyel\n",
    "\n",
    "n = 13\n",
    "kova = 1\n",
    "\n",
    "for i in range(1,n+1):\n",
    "    kova = kova * i\n",
    "    print(kova)"
   ]
  },
  {
   "cell_type": "code",
   "execution_count": 42,
   "id": "e35ca718",
   "metadata": {},
   "outputs": [
    {
     "name": "stdout",
     "output_type": "stream",
     "text": [
      "3943289336823952517761816069660925311475679888435866316473712666221797249817016714601521420059923119520886060694598194151288213951213185525309633124764149655567314286353816586186984944719612228107258321201270166459320656137141474266387621212037869516201606287027897843301130159520851620311758504293980894611113948118519486873600000000000000000000000000000000000000000000000\n"
     ]
    }
   ],
   "source": [
    "print(kova) # Cevabı 24 beklkiyorum"
   ]
  },
  {
   "cell_type": "code",
   "execution_count": 54,
   "id": "a5bbdb0d",
   "metadata": {},
   "outputs": [],
   "source": [
    "# 1000 den küçük 3-5 katı olan sayıları topla\n",
    "\n",
    "\"\"\"\n",
    "1- > 3 ün katları nın toplamı\n",
    "2 -> 5 in katları nın toplamı\n",
    "3 -> 15 in katlarının toplamı\n",
    "4 -> 1 + 2 - 3\n",
    "\"\"\"\n",
    "\n",
    "kat_3 = list(range(3,1000,3))\n",
    "kat_5 = list(range(5,1000,5))\n",
    "kat_15 = list(range(15,1000,15))\n",
    "\n"
   ]
  },
  {
   "cell_type": "code",
   "execution_count": 57,
   "id": "348d1c4f",
   "metadata": {},
   "outputs": [
    {
     "name": "stdout",
     "output_type": "stream",
     "text": [
      "166833\n",
      "99500\n",
      "33165\n"
     ]
    }
   ],
   "source": [
    "toplam_kat_3 = 0\n",
    "\n",
    "for i in kat_3:\n",
    "    toplam_kat_3 = toplam_kat_3 + i\n",
    "\n",
    "print(toplam_kat_3)\n",
    "\n",
    "toplam_kat_5 = 0\n",
    "\n",
    "for i in kat_5:\n",
    "    toplam_kat_5 = toplam_kat_5 + i\n",
    "\n",
    "print(toplam_kat_5)\n",
    "\n",
    "toplam_kat_15 = 0\n",
    "\n",
    "for i in kat_15:\n",
    "    toplam_kat_15 = toplam_kat_15 + i\n",
    "\n",
    "print(toplam_kat_15)"
   ]
  },
  {
   "cell_type": "code",
   "execution_count": 58,
   "id": "9433d185",
   "metadata": {},
   "outputs": [
    {
     "name": "stdout",
     "output_type": "stream",
     "text": [
      "233168\n"
     ]
    }
   ],
   "source": [
    "sonuc = toplam_kat_3 + toplam_kat_5 - toplam_kat_15\n",
    "print(sonuc)"
   ]
  }
 ],
 "metadata": {
  "kernelspec": {
   "display_name": "Python 3 (ipykernel)",
   "language": "python",
   "name": "python3"
  },
  "language_info": {
   "codemirror_mode": {
    "name": "ipython",
    "version": 3
   },
   "file_extension": ".py",
   "mimetype": "text/x-python",
   "name": "python",
   "nbconvert_exporter": "python",
   "pygments_lexer": "ipython3",
   "version": "3.9.15"
  }
 },
 "nbformat": 4,
 "nbformat_minor": 5
}
