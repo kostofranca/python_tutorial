{
 "cells": [
  {
   "cell_type": "markdown",
   "id": "abde5ab5",
   "metadata": {},
   "source": [
    "## Class"
   ]
  },
  {
   "cell_type": "code",
   "execution_count": null,
   "id": "b000121c",
   "metadata": {},
   "outputs": [],
   "source": [
    "def ussu(a,b):\n",
    "    return a**b"
   ]
  },
  {
   "cell_type": "code",
   "execution_count": null,
   "id": "971c88f6",
   "metadata": {},
   "outputs": [],
   "source": [
    "print(ussu(2,3))"
   ]
  },
  {
   "cell_type": "code",
   "execution_count": 1,
   "id": "f73df23a",
   "metadata": {},
   "outputs": [],
   "source": [
    "class Person:\n",
    "    def __init__(self, name, age, TC): # Constructer \n",
    "        self.name = name\n",
    "        self.age = age\n",
    "        self.TC = TC\n",
    "\n",
    "    def is_resit(self):\n",
    "        return self.age >= 18\n",
    "\n",
    "    def introduce(self):\n",
    "        return f\"Benim adım {self.name}. Ben {self.age} yaşındayım. TC mi sana söyleyemem.\"\n",
    "\n",
    "    def summary(self):\n",
    "        return {\"name\":self.name, \"age\": self.age, \"TC\":self.TC}"
   ]
  },
  {
   "cell_type": "code",
   "execution_count": null,
   "id": "5d825906",
   "metadata": {},
   "outputs": [],
   "source": [
    "abdullah = Person(\"Abdullah\", 20, 12345)\n",
    "mustafa = Person(\"Mustafa\", 21, 24680)"
   ]
  },
  {
   "cell_type": "code",
   "execution_count": null,
   "id": "abd8b73d",
   "metadata": {},
   "outputs": [],
   "source": [
    "print(type(abdullah))"
   ]
  },
  {
   "cell_type": "code",
   "execution_count": null,
   "id": "7b34bfde",
   "metadata": {},
   "outputs": [],
   "source": [
    "abdullah.summary()"
   ]
  },
  {
   "cell_type": "code",
   "execution_count": 10,
   "id": "0ce33468",
   "metadata": {},
   "outputs": [],
   "source": [
    "class Professor(Person):\n",
    "    def __init__(self, name, age, TC, lectures, n_thesis):\n",
    "        Person.__init__(self, name, age, TC)\n",
    "\n",
    "        self.lectures = lectures\n",
    "        self.n_thesis = n_thesis\n",
    "    \n",
    "    def can_promoted(self):\n",
    "        return self.n_thesis > len(self.lectures)"
   ]
  },
  {
   "cell_type": "code",
   "execution_count": 6,
   "id": "f6640ec8",
   "metadata": {},
   "outputs": [],
   "source": [
    "class Student(Person):\n",
    "    pass"
   ]
  },
  {
   "cell_type": "code",
   "execution_count": 11,
   "id": "3060f9e9",
   "metadata": {},
   "outputs": [],
   "source": [
    "ahmet = Professor(\"Ahmet Kasım\", 24, 24680, [\"A\", \"B\", \"C\"], 3)"
   ]
  },
  {
   "cell_type": "code",
   "execution_count": 13,
   "id": "2e08278d",
   "metadata": {},
   "outputs": [
    {
     "data": {
      "text/plain": [
       "24"
      ]
     },
     "execution_count": 13,
     "metadata": {},
     "output_type": "execute_result"
    }
   ],
   "source": []
  },
  {
   "cell_type": "code",
   "execution_count": null,
   "id": "82eafd38",
   "metadata": {},
   "outputs": [],
   "source": []
  }
 ],
 "metadata": {
  "kernelspec": {
   "display_name": "Python 3 (ipykernel)",
   "language": "python",
   "name": "python3"
  },
  "language_info": {
   "codemirror_mode": {
    "name": "ipython",
    "version": 3
   },
   "file_extension": ".py",
   "mimetype": "text/x-python",
   "name": "python",
   "nbconvert_exporter": "python",
   "pygments_lexer": "ipython3",
   "version": "3.9.15"
  }
 },
 "nbformat": 4,
 "nbformat_minor": 5
}
