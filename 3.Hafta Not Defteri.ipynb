{
 "cells": [
  {
   "cell_type": "markdown",
   "id": "df6780ce",
   "metadata": {},
   "source": [
    "### Lists\n",
    "\n",
    "* Listeler bir değişken türüdür. type([])\n",
    "* İtere edilebilir objelerin en basitidir. (lists, dict, set, tuple)\n",
    "* İçinde farklı veri tiplerini tutabilirler.\n",
    "* İçindeki elemanlara indexleri aracılığı ile ulaşılır. Ve değiştirilebilirler.\n",
    "* list slicing ile içerisinden eleman çekeriz.\n",
    "* range() ile\n",
    "* list comprehension\n",
    "* List Methods\n",
    "    * len()\n",
    "    * .append()\n",
    "    * .pop()\n",
    "    * .remove()\n",
    "    * .extend()\n",
    "    * .index()"
   ]
  },
  {
   "cell_type": "markdown",
   "id": "eea828d4",
   "metadata": {},
   "source": [
    "### Loops\n",
    "\n",
    "#### _For_ Loops"
   ]
  },
  {
   "cell_type": "code",
   "execution_count": null,
   "id": "4a529c6d",
   "metadata": {},
   "outputs": [],
   "source": [
    "liste = [1,2,3,4] # 0 ,1, 2, 3\n",
    "\n",
    "for element in liste:\n",
    "    print(element)"
   ]
  },
  {
   "cell_type": "code",
   "execution_count": null,
   "id": "bb193175",
   "metadata": {},
   "outputs": [],
   "source": [
    "for i in range(len(liste)):\n",
    "    print(f\"{i}. indexte {liste[i]} elemanı var\")"
   ]
  },
  {
   "cell_type": "code",
   "execution_count": null,
   "id": "98d67bbb",
   "metadata": {},
   "outputs": [],
   "source": [
    "# Sum in a given range\n",
    "\n",
    "toplam = 0\n",
    "\n",
    "for element in liste:\n",
    "    toplam = toplam + element\n",
    "\n",
    "print(toplam)"
   ]
  },
  {
   "cell_type": "code",
   "execution_count": null,
   "id": "7e1aff5e",
   "metadata": {},
   "outputs": [],
   "source": [
    "sum(liste)"
   ]
  },
  {
   "cell_type": "code",
   "execution_count": null,
   "id": "7df2b226",
   "metadata": {},
   "outputs": [],
   "source": [
    "# factorial calculation\n",
    "\n",
    "result = 1\n",
    "n = 4\n",
    "\n",
    "for i in range(1, n+1):\n",
    "    result *= i\n",
    "\n",
    "print(result)"
   ]
  },
  {
   "cell_type": "code",
   "execution_count": null,
   "id": "6853d27c",
   "metadata": {},
   "outputs": [],
   "source": [
    "n = 4\n",
    "result = 1\n",
    "\n",
    "numbers = [number for number in range(1, n+1)]\n",
    "\n",
    "for i in numbers:\n",
    "    result *= i\n",
    "print(result)"
   ]
  },
  {
   "cell_type": "code",
   "execution_count": null,
   "id": "620bc16d",
   "metadata": {},
   "outputs": [],
   "source": [
    "type(range(5))"
   ]
  },
  {
   "cell_type": "code",
   "execution_count": null,
   "id": "7f634cb0",
   "metadata": {},
   "outputs": [],
   "source": [
    "# decremental for loop\n",
    "liste1 = []\n",
    "\n",
    "for i in range(5, -10, -2):\n",
    "    liste1.append(i)\n",
    "\n",
    "print(liste1)"
   ]
  },
  {
   "cell_type": "code",
   "execution_count": null,
   "id": "cef7e73e",
   "metadata": {},
   "outputs": [],
   "source": [
    "liste2 = [i for i in range(5, -10, -2)]\n",
    "\n",
    "print(liste2)"
   ]
  },
  {
   "cell_type": "code",
   "execution_count": null,
   "id": "8ba34cbd",
   "metadata": {},
   "outputs": [],
   "source": [
    "a = [1,2,3,4]\n",
    "\n",
    "print(type(a))\n",
    "\n",
    "b = \"12345\"\n",
    "print(type(b))\n",
    "\n",
    "b_2= [b]\n",
    "\n",
    "print(type(b_2))"
   ]
  },
  {
   "cell_type": "code",
   "execution_count": null,
   "id": "d7c21773",
   "metadata": {
    "scrolled": true
   },
   "outputs": [],
   "source": [
    "print(type([range(5)]))"
   ]
  },
  {
   "cell_type": "code",
   "execution_count": null,
   "id": "d2ec6a83",
   "metadata": {},
   "outputs": [],
   "source": [
    "for i in [1,2,3,4]:\n",
    "    print(i)"
   ]
  },
  {
   "cell_type": "code",
   "execution_count": null,
   "id": "5a14da0d",
   "metadata": {},
   "outputs": [],
   "source": [
    "print([range(5)])"
   ]
  },
  {
   "cell_type": "code",
   "execution_count": null,
   "id": "168cad0b",
   "metadata": {},
   "outputs": [],
   "source": [
    "for i in [range(5)]:\n",
    "    print(i)"
   ]
  },
  {
   "cell_type": "code",
   "execution_count": null,
   "id": "e1565302",
   "metadata": {},
   "outputs": [],
   "source": [
    "for i in [*range(100000000)]:\n",
    "    print(i)"
   ]
  },
  {
   "cell_type": "code",
   "execution_count": null,
   "id": "744fd163",
   "metadata": {},
   "outputs": [],
   "source": []
  }
 ],
 "metadata": {
  "kernelspec": {
   "display_name": "Python 3 (ipykernel)",
   "language": "python",
   "name": "python3"
  },
  "language_info": {
   "codemirror_mode": {
    "name": "ipython",
    "version": 3
   },
   "file_extension": ".py",
   "mimetype": "text/x-python",
   "name": "python",
   "nbconvert_exporter": "python",
   "pygments_lexer": "ipython3",
   "version": "3.9.15"
  }
 },
 "nbformat": 4,
 "nbformat_minor": 5
}
