{
 "cells": [
  {
   "cell_type": "markdown",
   "id": "0a0c599d",
   "metadata": {},
   "source": [
    "* list comprehension\n",
    "* List Methods\n",
    "    * len()\n",
    "    * .append()\n",
    "    * .pop()\n",
    "    * .remove()\n",
    "    * .extend()\n",
    "    * .index()\n",
    "---\n",
    "\n",
    "While Döngüsü\n",
    "\n",
    "![](for-while.png)\n",
    "\n",
    "Fonksyon Tanımlama\n",
    "\n",
    "Sorular çözeceğiz.\n",
    "\n",
    "* [String Haftası](https://github.com/bouncmpe150/python-notes/tree/main/week07)\n",
    "    * 1. Soru\n",
    "    * 3. Soru\n",
    "    * 4. Soru\n",
    "    * 8. Soru\n",
    "* Int List Soruları\n",
    "    * Fibonacci Numbers\n",
    "    * Digit Count\n",
    "    * IsPrime\n",
    "    * Prime factors\n",
    "\n",
    "---\n",
    "\n",
    "Ödev Soruları\n",
    "\n",
    "1. [Isogram](https://www.codewars.com/kata/54ba84be607a92aa900000f1/train/python)\n",
    "2. [Return Negative](https://www.codewars.com/kata/55685cd7ad70877c23000102/train/python)\n",
    "3. [How good You Really Are?](https://www.codewars.com/kata/5601409514fc93442500010b/train/python)"
   ]
  },
  {
   "cell_type": "code",
   "execution_count": 25,
   "id": "fa2c2f56",
   "metadata": {},
   "outputs": [
    {
     "name": "stdout",
     "output_type": "stream",
     "text": [
      "['the ', 'house ', 'is ', 'a ', 'long ', 'way ', 'from ', 'here ']\n"
     ]
    }
   ],
   "source": [
    "string = \"the is a long way from here\" + \" \"\n",
    "words = []\n",
    "\n",
    "kova = \"\"\n",
    "\n",
    "for i in string:\n",
    "\n",
    "    kova += i\n",
    "    if(i == \" \"):\n",
    "        words.append(kova)\n",
    "        kova = \"\"\n",
    "\n",
    "print(result)"
   ]
  },
  {
   "cell_type": "code",
   "execution_count": 14,
   "id": "a2ed6c81",
   "metadata": {},
   "outputs": [
    {
     "name": "stdout",
     "output_type": "stream",
     "text": [
      "[3, 5, 2, 1, 4, 3, 4, 4]\n"
     ]
    }
   ],
   "source": [
    "length = []\n",
    "\n",
    "for i in words:\n",
    "    length.append(len(i) - 1)\n",
    "    \n",
    "print(length)"
   ]
  },
  {
   "cell_type": "code",
   "execution_count": 16,
   "id": "d8bba900",
   "metadata": {},
   "outputs": [
    {
     "name": "stdout",
     "output_type": "stream",
     "text": [
      "the  3\n",
      "house  5\n",
      "is  2\n",
      "a  1\n",
      "long  4\n",
      "way  3\n",
      "from  4\n",
      "here  4\n"
     ]
    }
   ],
   "source": [
    "for i in range(len(words)):\n",
    "    print(words[i], length[i])"
   ]
  },
  {
   "cell_type": "code",
   "execution_count": 23,
   "id": "fc60c876",
   "metadata": {},
   "outputs": [
    {
     "name": "stdout",
     "output_type": "stream",
     "text": [
      "house \n"
     ]
    }
   ],
   "source": [
    "maxi = max(length)\n",
    "\n",
    "ind = length.index(maxi)\n",
    "\n",
    "print(words[ind])"
   ]
  },
  {
   "cell_type": "code",
   "execution_count": null,
   "id": "7fe2ef71",
   "metadata": {},
   "outputs": [],
   "source": []
  }
 ],
 "metadata": {
  "kernelspec": {
   "display_name": "Python 3 (ipykernel)",
   "language": "python",
   "name": "python3"
  },
  "language_info": {
   "codemirror_mode": {
    "name": "ipython",
    "version": 3
   },
   "file_extension": ".py",
   "mimetype": "text/x-python",
   "name": "python",
   "nbconvert_exporter": "python",
   "pygments_lexer": "ipython3",
   "version": "3.9.15"
  }
 },
 "nbformat": 4,
 "nbformat_minor": 5
}
