{
 "cells": [
  {
   "cell_type": "markdown",
   "id": "c324f0a8",
   "metadata": {},
   "source": [
    "## 2. Hafta\n",
    "\n",
    "Bu haftaki ders notlarına hoş geldiniz arkadaşlar!\n",
    "\n",
    "Geçen hafta hemen alttaki kod satırını çalıştırmayı görmüştük. Bu dersimizde ise,\n",
    "\n",
    "* **Genel Python Konseptleri**,\n",
    "    * Yorum Satırları\n",
    "    * Escape(Kaçış) Karakterleri,\n",
    "    * Indentation\n",
    "* **Variable(Değişken) Türleri**,\n",
    "* **Operatörler**,\n",
    "    * Matematiksel Operatörler\n",
    "    * Mantıksal Operatörler\n",
    "* **if-else Blokları**\n",
    "\n",
    "konularını işleyeceğiz.\n",
    "\n",
    "---\n",
    "\n",
    "<p>Canınız sıkılırsa <a href=\"https://www.youtube.com/watch?v=xb09jgC1DHI\">buraya tıklayarak</a> güzel bir video izleyebilirsiniz</p>\n"
   ]
  },
  {
   "cell_type": "markdown",
   "id": "28cc94f4",
   "metadata": {},
   "source": [
    "---"
   ]
  },
  {
   "cell_type": "markdown",
   "id": "e7d75f34",
   "metadata": {},
   "source": [
    "#### Geçen Haftadan Kalanlar"
   ]
  },
  {
   "cell_type": "code",
   "execution_count": 13,
   "id": "2be45566",
   "metadata": {
    "scrolled": false
   },
   "outputs": [
    {
     "name": "stdout",
     "output_type": "stream",
     "text": [
      "Selamünaleyküm\n"
     ]
    }
   ],
   "source": [
    "print(\"Selamünaleyküm\")"
   ]
  },
  {
   "cell_type": "code",
   "execution_count": null,
   "id": "869b5846",
   "metadata": {},
   "outputs": [],
   "source": [
    "print(3.14)"
   ]
  },
  {
   "cell_type": "markdown",
   "id": "ef219682",
   "metadata": {},
   "source": [
    "---"
   ]
  },
  {
   "cell_type": "markdown",
   "id": "be2def56",
   "metadata": {},
   "source": [
    "## 1. Genel Konseptler"
   ]
  },
  {
   "cell_type": "markdown",
   "id": "a8b86b90",
   "metadata": {},
   "source": [
    "Diğer tüm kodlama dillerinde olduğu gibi Python dilinde de kod yazmamızı kolaylaştırmak için bazı özellikler mevcut."
   ]
  },
  {
   "cell_type": "markdown",
   "id": "0cdc903a",
   "metadata": {},
   "source": [
    "### A. Yorum Satırları\n",
    "\n",
    "&rarr; Yorum satırları yukarıda bahsedilen kolaylıklardan birisidir. **Yorum Satırlarını** kullanarak yazacağımız uzun kod parçalarına kendi notlarımızı yazarız."
   ]
  },
  {
   "cell_type": "code",
   "execution_count": null,
   "id": "2f2e3e38",
   "metadata": {},
   "outputs": [],
   "source": [
    "# Bu benim ilk yorumum asdvfasdfgsdafbvdzfvsdfgbdzfbsfgndfghsfgbnzdfgn\n",
    "print(\"İlk yorumum\")"
   ]
  },
  {
   "cell_type": "code",
   "execution_count": null,
   "id": "79202d5d",
   "metadata": {},
   "outputs": [],
   "source": [
    "\"\"\"\n",
    "\n",
    "    Biz şu\n",
    "    anda \n",
    "    Pansiyonda\n",
    "    bıdı bıdı yapıyoruz.\n",
    "    \n",
    "    Bu bir çoklu yorum satırı.\n",
    "\n",
    "\"\"\""
   ]
  },
  {
   "cell_type": "markdown",
   "id": "5c4b2ffb",
   "metadata": {},
   "source": [
    "### B. Escape(Kaçış) Karakterleri\n",
    "\n",
    "&rarr; Kaçış karakterlerini kullanarak Pythondaki özel karakterleri görmezden gelmesini sağlayabiliyoruz"
   ]
  },
  {
   "cell_type": "code",
   "execution_count": null,
   "id": "1e1c8091",
   "metadata": {},
   "outputs": [],
   "source": [
    "print(\"\\\")"
   ]
  },
  {
   "cell_type": "code",
   "execution_count": null,
   "id": "6c5bef22",
   "metadata": {},
   "outputs": [],
   "source": [
    "print(\"\\\\\")"
   ]
  },
  {
   "cell_type": "code",
   "execution_count": null,
   "id": "f351023b",
   "metadata": {},
   "outputs": [],
   "source": [
    "print(\"password\\\"\\\\nsdfsf\")"
   ]
  },
  {
   "cell_type": "code",
   "execution_count": null,
   "id": "d006fe69",
   "metadata": {},
   "outputs": [],
   "source": [
    "print(\"Mustafa\",\"Talha\",\"Aydın\") # print() fonksiyonuna 3 tane input vermiş olduk.\n",
    "print(\"Mustafa\\nTAlha\") # \"/n\" karakteri bir alt satıra inmemizi sağlar."
   ]
  },
  {
   "cell_type": "markdown",
   "id": "97882ad2",
   "metadata": {},
   "source": [
    "---"
   ]
  },
  {
   "cell_type": "markdown",
   "id": "d1d373a3",
   "metadata": {},
   "source": [
    "## 2. Variable(Değişken) Türleri\n",
    "\n"
   ]
  },
  {
   "cell_type": "code",
   "execution_count": null,
   "id": "7bd663de",
   "metadata": {},
   "outputs": [],
   "source": [
    "selamlasma = \"selamünaleyküm\" # Bu bir string\n",
    "\n",
    "print(selamlaşma) # Neden hata aldığımızı açıklamaya çalışın..."
   ]
  },
  {
   "cell_type": "markdown",
   "id": "c7921f57",
   "metadata": {},
   "source": [
    "\n",
    "\n",
    "    String tipinde bir veriyi (\"Herhaba Boun Pan\"), \"selamlaşma\" değişkenine atayacağız.\n",
    "    \n"
   ]
  },
  {
   "cell_type": "code",
   "execution_count": null,
   "id": "aa0b90f0",
   "metadata": {},
   "outputs": [],
   "source": [
    "selamlaşma = \"Herhaba Boun Pan\""
   ]
  },
  {
   "cell_type": "code",
   "execution_count": null,
   "id": "6b34ace6",
   "metadata": {},
   "outputs": [],
   "source": [
    "print(selamlaşma)"
   ]
  },
  {
   "cell_type": "code",
   "execution_count": null,
   "id": "9e1f4de3",
   "metadata": {},
   "outputs": [],
   "source": [
    "# string -> Tırnak içi ifadeler\n",
    "print(type(selamlaşma))"
   ]
  },
  {
   "cell_type": "code",
   "execution_count": null,
   "id": "44de78b3",
   "metadata": {},
   "outputs": [],
   "source": [
    "# integer -> tam sayılar\n",
    "print(type(3))"
   ]
  },
  {
   "cell_type": "code",
   "execution_count": null,
   "id": "4bc865c3",
   "metadata": {},
   "outputs": [],
   "source": [
    "# float -> Ondalıklı sayı\n",
    "print(type(3.14))"
   ]
  },
  {
   "cell_type": "code",
   "execution_count": null,
   "id": "8678bec0",
   "metadata": {},
   "outputs": [],
   "source": [
    "print(type(3,14)) # print(x,y) olarak algıladı. Sanki iki farklı expression ile ifade etmişiz şeklinde yazdı."
   ]
  },
  {
   "cell_type": "code",
   "execution_count": 1,
   "id": "84f7cd0c",
   "metadata": {},
   "outputs": [],
   "source": [
    "class pansiyon:\n",
    "    pass\n",
    "\n",
    "pan = pansiyon()"
   ]
  },
  {
   "cell_type": "code",
   "execution_count": 4,
   "id": "1d25ad11",
   "metadata": {},
   "outputs": [
    {
     "name": "stdout",
     "output_type": "stream",
     "text": [
      "<class '__main__.pansiyon'>\n"
     ]
    }
   ],
   "source": [
    "print(type(pan))"
   ]
  },
  {
   "cell_type": "markdown",
   "id": "f3b2c877",
   "metadata": {},
   "source": [
    "---"
   ]
  },
  {
   "cell_type": "markdown",
   "id": "be18a039",
   "metadata": {},
   "source": [
    "## 3. Operators"
   ]
  },
  {
   "cell_type": "markdown",
   "id": "c30bd3f2",
   "metadata": {},
   "source": [
    "### A. Matematiksel Operatörler\n",
    "\n",
    "$$\n",
    "\\begin{align*}\n",
    "& a - b := \\text{çıkarma}              \\\\\n",
    "& a + b := \\text{toplama}               \\\\\n",
    "& a * b := \\text{çarpma}                 \\\\\n",
    "& a \\ / \\ b := \\text{bölme}               \\\\\n",
    "& a \\ \\% \\ b := \\text{mod} \\ \\ (\\text{a / b yaptığımda kalan ne olur?})           \\\\\n",
    "& a \\ // \\ b := \\text{bölüm} \\ \\  (\\text{a / b yaptığımda bölüm ne olur?})         \\\\\n",
    "\\end{align*} \n",
    "$$"
   ]
  },
  {
   "cell_type": "code",
   "execution_count": null,
   "id": "b804302a",
   "metadata": {},
   "outputs": [],
   "source": [
    "print(3+5) # \"3+5\" -> Expression"
   ]
  },
  {
   "cell_type": "code",
   "execution_count": null,
   "id": "68367ef7",
   "metadata": {},
   "outputs": [],
   "source": [
    "print(3.14 - 3)"
   ]
  },
  {
   "cell_type": "code",
   "execution_count": null,
   "id": "0e4cd304",
   "metadata": {},
   "outputs": [],
   "source": [
    "print(6/2) # default olarak \"float\" döner"
   ]
  },
  {
   "cell_type": "code",
   "execution_count": 1,
   "id": "d4dac2b5",
   "metadata": {},
   "outputs": [
    {
     "name": "stdout",
     "output_type": "stream",
     "text": [
      "0\n"
     ]
    }
   ],
   "source": [
    "print(6%2) # bölümden kalan"
   ]
  },
  {
   "cell_type": "code",
   "execution_count": null,
   "id": "bdec99eb",
   "metadata": {},
   "outputs": [],
   "source": [
    "a = 5\n",
    "\n",
    "tekmiciftmi = a%2 # -> Expression\n",
    "\n",
    "print(tekmiciftmi)"
   ]
  },
  {
   "cell_type": "code",
   "execution_count": null,
   "id": "ba1839a9",
   "metadata": {},
   "outputs": [],
   "source": [
    "a = 8\n",
    "\n",
    "tekmiciftmi = a // 2 # -> 5 in içerisinde kaç tane 2 var\n",
    "\n",
    "print(tekmiciftmi)"
   ]
  },
  {
   "cell_type": "code",
   "execution_count": null,
   "id": "64923212",
   "metadata": {},
   "outputs": [],
   "source": [
    "fiyat = 10\n",
    "\n",
    "print(100 - fiyat)\n",
    "\n",
    "# 100 - fiyat\n",
    "\n",
    "# 100 - 10\n",
    "\n",
    "# print(100 - 10)"
   ]
  },
  {
   "cell_type": "code",
   "execution_count": null,
   "id": "16300c32",
   "metadata": {},
   "outputs": [],
   "source": [
    "# Booleen\n",
    "\n",
    "a = True\n",
    "b = False\n",
    "\n",
    "c = a == b # Birincisi atama, ikincisi eşit mi değil mi onu kontrol eder.\n",
    "\n",
    "print(c)\n",
    "\n",
    "print(type(a))\n",
    "\n",
    "print(type(b))"
   ]
  },
  {
   "cell_type": "markdown",
   "id": "affe8658",
   "metadata": {},
   "source": [
    "### Mantık Operatörleri"
   ]
  },
  {
   "cell_type": "code",
   "execution_count": null,
   "id": "8fc55257",
   "metadata": {},
   "outputs": [],
   "source": [
    "# 1 ve 0 = 0\n",
    "\n",
    "print(True and False)"
   ]
  },
  {
   "cell_type": "code",
   "execution_count": null,
   "id": "c8728e38",
   "metadata": {},
   "outputs": [],
   "source": [
    "print(True or False)"
   ]
  },
  {
   "cell_type": "markdown",
   "id": "7efe45b3",
   "metadata": {},
   "source": [
    "---"
   ]
  },
  {
   "cell_type": "markdown",
   "id": "9a2a4b17",
   "metadata": {},
   "source": [
    "## 4. If - Else Blokları"
   ]
  },
  {
   "cell_type": "markdown",
   "id": "9b610f54",
   "metadata": {},
   "source": [
    "Bir \"expression\" doğru ise bir işlem yanlış ise farklı bir işlem yapabilmek için _if-else_ bloklarını kullanıyoruz."
   ]
  },
  {
   "cell_type": "code",
   "execution_count": 2,
   "id": "02acce90",
   "metadata": {},
   "outputs": [
    {
     "ename": "IndentationError",
     "evalue": "expected an indented block (1271056870.py, line 3)",
     "output_type": "error",
     "traceback": [
      "\u001b[0;36m  Cell \u001b[0;32mIn [2], line 3\u001b[0;36m\u001b[0m\n\u001b[0;31m    print(\"İnşallah Abdullah 1. sınıfta evlenir\")\u001b[0m\n\u001b[0m    ^\u001b[0m\n\u001b[0;31mIndentationError\u001b[0m\u001b[0;31m:\u001b[0m expected an indented block\n"
     ]
    }
   ],
   "source": [
    "if( False or False ):\n",
    "    # indentation\n",
    "    print(\"İnşallah Abdullah 1. sınıfta evlenir\")\n",
    "else:\n",
    "    print(\"İnşallah Abdullah 2.sınıfta evlenir\")"
   ]
  },
  {
   "cell_type": "code",
   "execution_count": null,
   "id": "03eb210a",
   "metadata": {},
   "outputs": [],
   "source": [
    "a = 3\n",
    "\n",
    "if ( a%2 and 0 ):\n",
    "    print(\"Merdivenleri teker teker çık...\")\n",
    "else:\n",
    "    print(\"Merdivenleri çift çift çık...\")"
   ]
  },
  {
   "cell_type": "code",
   "execution_count": null,
   "id": "832e3f27",
   "metadata": {},
   "outputs": [],
   "source": [
    "a = 3\n",
    "\n",
    "expression = a%2 and 0  # 1 and 0 => 0\n",
    "\n",
    "print(expression)\n",
    "\n",
    "if ( expression ):\n",
    "    print(\"Merdivenleri teker teker çık...\")\n",
    "else:\n",
    "    print(\"Merdivenleri çift çift çık...\")"
   ]
  },
  {
   "cell_type": "code",
   "execution_count": null,
   "id": "2377c31c",
   "metadata": {},
   "outputs": [],
   "source": [
    "a = 12\n",
    "\n",
    "expression = ( a%2 and 0 ) == True\n",
    "\n",
    "print(expression)\n",
    "\n",
    "if ( expression ):\n",
    "    print(\"Merdivenleri teker teker çık...\")\n",
    "else:\n",
    "    print(\"Merdivenleri çift çift çık...\")"
   ]
  },
  {
   "cell_type": "code",
   "execution_count": 7,
   "id": "44d180fa",
   "metadata": {},
   "outputs": [
    {
     "name": "stdout",
     "output_type": "stream",
     "text": [
      "Askere gitme\n"
     ]
    }
   ],
   "source": [
    "mustafanin_yasi = 22\n",
    "\n",
    "resit_mi = mustafanin_yasi >= 18\n",
    "\n",
    "# print(resit_mi)\n",
    "\n",
    "if( resit_mi ):\n",
    "    print(\"Askere Git\")\n",
    "else:\n",
    "    print(\"Askere gitme\")"
   ]
  }
 ],
 "metadata": {
  "kernelspec": {
   "display_name": "Python 3 (ipykernel)",
   "language": "python",
   "name": "python3"
  },
  "language_info": {
   "codemirror_mode": {
    "name": "ipython",
    "version": 3
   },
   "file_extension": ".py",
   "mimetype": "text/x-python",
   "name": "python",
   "nbconvert_exporter": "python",
   "pygments_lexer": "ipython3",
   "version": "3.9.15"
  }
 },
 "nbformat": 4,
 "nbformat_minor": 5
}
